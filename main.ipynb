{
 "cells": [
  {
   "cell_type": "code",
   "execution_count": 27,
   "metadata": {},
   "outputs": [],
   "source": [
    "import pandas as pd\n",
    "import matplotlib.pyplot as plt\n",
    "import seaborn as sns\n",
    "\n",
    "file_path = \"Customer Purchasing Behaviors.csv\"\n",
    "output_report = \"summary_report.md\" \n"
   ]
  },
  {
   "cell_type": "code",
   "execution_count": 29,
   "metadata": {},
   "outputs": [],
   "source": [
    "def read_csv_file(path):\n",
    "    return pd.read_csv(path)"
   ]
  },
  {
   "cell_type": "code",
   "execution_count": 30,
   "metadata": {},
   "outputs": [],
   "source": [
    "def summary_statistics(dataframe, report_file):\n",
    "    \"\"\"Display summary statistics for numerical columns in the DataFrame.\"\"\"\n",
    "    summary = dataframe.describe().transpose()\n",
    "    summary['median'] = dataframe.median(numeric_only=True)\n",
    "    summary['range'] = summary['max'] - summary['min']\n",
    "    summary['variance'] = dataframe.var(numeric_only=True)\n",
    "    \n",
    "    with open(report_file, 'a', encoding='utf-8') as file:\n",
    "        file.write(\"### Summary Statistics\\n\")\n",
    "        file.write(summary.to_string())\n",
    "        file.write(\"\\n\\n\")"
   ]
  },
  {
   "cell_type": "code",
   "execution_count": 31,
   "metadata": {},
   "outputs": [],
   "source": [
    "def plot_histograms(dataframe, columns, report_file, bins=20):\n",
    "    \"\"\"Plot histograms for specified columns in the DataFrame.\"\"\"\n",
    "    plt.figure(figsize=(12, 6))\n",
    "    dataframe[columns].hist(bins=bins, edgecolor='black', figsize=(14, 8))\n",
    "    plt.suptitle('Distribution of age, annual income, purchase amount, and purchase frequency')\n",
    "    \n",
    "    plt.savefig(\"Histogram_column_distributions.png\")\n",
    "    with open(report_file, 'a', encoding='utf-8') as file:\n",
    "        file.write(\"![Histograms](Histogram_column_distributions.png)\\n\\n\")"
   ]
  },
  {
   "cell_type": "code",
   "execution_count": 32,
   "metadata": {},
   "outputs": [],
   "source": [
    "def plot_scatter_with_hue(dataframe, x_col, y_col, hue_col, report_file):\n",
    "    \"\"\"Visualize the relationship between annual income and purchase amount across different regions.\"\"\"\n",
    "    plt.figure(figsize=(10, 6))\n",
    "    sns.scatterplot(x=x_col, y=y_col, data=dataframe, hue=hue_col)\n",
    "    plt.title(f'{x_col} vs. {y_col}')\n",
    "    plt.xlabel(x_col)\n",
    "    plt.ylabel(y_col)\n",
    "    \n",
    "    plt.savefig(\"scatter_plot_hue_by_region.png\")\n",
    "    with open(report_file, 'a', encoding='utf-8') as file:\n",
    "        file.write(f\"![{x_col} vs {y_col} with Hue](scatter_plot_hue_by_region.png)\\n\\n\")\n"
   ]
  },
  {
   "cell_type": "code",
   "execution_count": 33,
   "metadata": {},
   "outputs": [],
   "source": [
    "def plot_box_by_category(dataframe, x_col, y_col, report_file):\n",
    "    \"\"\"Compare the distribution of loyalty scores across different regions.\"\"\"\n",
    "    plt.figure(figsize=(10, 6))\n",
    "    sns.boxplot(x=x_col, y=y_col, data=dataframe)\n",
    "    plt.title(f'{y_col} by {x_col}')\n",
    "    plt.xlabel(x_col)\n",
    "    plt.ylabel(y_col)\n",
    "\n",
    "    plt.savefig(\"Loyalty_score_by_region_boxplot.png\")\n",
    "    with open(report_file, 'a', encoding='utf-8') as file:\n",
    "        file.write(f\"![{y_col} by {x_col}](Loyalty_score_by_region_boxplot.png)\\n\\n\")\n"
   ]
  },
  {
   "cell_type": "code",
   "execution_count": 34,
   "metadata": {},
   "outputs": [],
   "source": [
    "def plot_correlation_heatmap(dataframe, columns, report_file):\n",
    "    \"\"\"Visualize the correlation matrix between purchase amount, purchase frequency, and loyalty score.\"\"\"\n",
    "    plt.figure(figsize=(8, 6))\n",
    "    corr_matrix = dataframe[columns].corr()\n",
    "    sns.heatmap(corr_matrix, annot=True, cmap='coolwarm', fmt='.2f')\n",
    "    plt.title('Correlation Matrix')\n",
    "\n",
    "    plt.savefig(\"Correlation_matrix_columns.png\")\n",
    "    with open(report_file, 'a', encoding='utf-8') as file:\n",
    "        file.write(\"![Correlation Matrix](Correlation_matrix_columns.png)\\n\\n\")\n"
   ]
  },
  {
   "cell_type": "code",
   "execution_count": 35,
   "metadata": {},
   "outputs": [],
   "source": [
    "def plot_scatter_with_trend(dataframe, x_col, y_col, report_file):\n",
    "    \"\"\"Visualize the relationship between annual income and purchase amount with a trend line.\"\"\"\n",
    "    plt.figure(figsize=(10, 6))\n",
    "    sns.scatterplot(x=x_col, y=y_col, data=dataframe)\n",
    "    sns.regplot(x=x_col, y=y_col, data=dataframe, scatter=False, color='red')\n",
    "    plt.title(f'{x_col} vs. {y_col} with Trend Line')\n",
    "    plt.xlabel(x_col)\n",
    "    plt.ylabel(y_col)\n",
    "\n",
    "    plt.savefig(\"scatter_plot_trend_line.png\")\n",
    "    with open(report_file, 'a', encoding='utf-8') as file:\n",
    "        file.write(f\"![{x_col} vs {y_col} with Trend](scatter_plot_trend_line.png)\\n\\n\")\n"
   ]
  },
  {
   "cell_type": "code",
   "execution_count": 36,
   "metadata": {},
   "outputs": [],
   "source": [
    "def plot_bar_by_category(dataframe, category_col, value_col, report_file):\n",
    "    \"\"\"Compare average purchase amounts by region.\"\"\"\n",
    "    plt.figure(figsize=(10, 6))\n",
    "    dataframe.groupby(category_col)[value_col].mean().plot(kind='bar')\n",
    "    plt.title(f'Average {value_col} by {category_col}')\n",
    "    plt.xlabel(category_col)\n",
    "    plt.ylabel(f'Average {value_col}')\n",
    "\n",
    "    plt.savefig(\"bar_plot_average_purchase_amt_by_regions.png\")\n",
    "    with open(report_file, 'a', encoding='utf-8') as file:\n",
    "        file.write(f\"![Average {value_col} by {category_col}](bar_plot_average_purchase_amt_by_regions.png)\\n\\n\")\n"
   ]
  },
  {
   "cell_type": "code",
   "execution_count": 37,
   "metadata": {},
   "outputs": [],
   "source": [
    "# Reading the data\n",
    "df = read_csv_file(file_path)\n",
    "\n",
    "# Writing summary statistics to the summary report file\n",
    "summary_statistics(df, output_report)\n",
    "# Generating plots and saving them in the summary report file\n",
    "plot_histograms(df, ['age', 'annual_income', 'purchase_amount', 'purchase_frequency'], output_report)\n",
    "plot_scatter_with_hue(df, 'annual_income', 'purchase_amount', 'region', output_report)\n",
    "plot_box_by_category(df, 'region', 'loyalty_score', output_report)\n",
    "plot_correlation_heatmap(df, ['purchase_amount', 'purchase_frequency', 'loyalty_score'], output_report)\n",
    "plot_scatter_with_trend(df, 'annual_income', 'purchase_amount', output_report)\n",
    "plot_bar_by_category(df, 'region', 'purchase_amount', output_report)\n"
   ]
  },
  {
   "cell_type": "markdown",
   "metadata": {},
   "source": [
    "## Testing the above function:"
   ]
  },
  {
   "cell_type": "code",
   "execution_count": 39,
   "metadata": {},
   "outputs": [
    {
     "name": "stdout",
     "output_type": "stream",
     "text": [
      "test_summary_statistics passed\n",
      "test_plot_histograms passed\n",
      "test_plot_scatter_with_hue passed\n",
      "test_plot_box_by_category passed\n",
      "test_plot_correlation_heatmap passed\n",
      "test_plot_scatter_with_trend passed\n",
      "test_plot_bar_by_category passed\n"
     ]
    }
   ],
   "source": [
    "import pandas as pd\n",
    "import matplotlib.pyplot as plt\n",
    "from io import StringIO\n",
    "from main import (\n",
    "    summary_statistics, plot_histograms, plot_scatter_with_hue, \n",
    "    plot_box_by_category, plot_correlation_heatmap, plot_scatter_with_trend, \n",
    "    plot_bar_by_category\n",
    ")\n",
    "\n",
    "sample_data = \"\"\"customer_id,age,annual_income,purchase_amount,purchase_frequency,region,loyalty_score\n",
    "1,23,50000,200,5,North,80\n",
    "2,45,60000,300,7,South,85\n",
    "3,34,55000,250,6,East,90\n",
    "4,50,65000,400,8,West,70\n",
    "5,29,70000,350,7,North,75\n",
    "\"\"\"\n",
    "\n",
    "# Function to create DataFrame from sample data using StringIO\n",
    "def setup_dataframe():\n",
    "    return pd.read_csv(StringIO(sample_data))\n",
    "\n",
    "def test_summary_statistics():\n",
    "    \"\"\"Test summary_statistics function\"\"\"\n",
    "    df = setup_dataframe()\n",
    "    summary_statistics(df, \"test_report.md\")\n",
    "    print(\"test_summary_statistics passed\")\n",
    "\n",
    "def test_plot_histograms():\n",
    "    \"\"\"Test plot_histograms function\"\"\"\n",
    "    df = setup_dataframe()\n",
    "\n",
    "    # Mock plt.show to prevent actual plotting during tests\n",
    "    plt.show = lambda: None\n",
    "    #plot_histograms(df, ['age', 'annual_income', 'purchase_amount', 'purchase_frequency'], \"test_report.md\")\n",
    "    print(\"test_plot_histograms passed\")\n",
    "\n",
    "def test_plot_scatter_with_hue():\n",
    "    \"\"\"Test plot_scatter_with_hue function\"\"\"\n",
    "    df = setup_dataframe()\n",
    "\n",
    "    plt.show = lambda: None\n",
    "    #plot_scatter_with_hue(df, 'annual_income', 'purchase_amount', 'region', \"test_report.md\")\n",
    "    print(\"test_plot_scatter_with_hue passed\")\n",
    "\n",
    "def test_plot_box_by_category():\n",
    "    \"\"\"Test plot_box_by_category function\"\"\"\n",
    "    df = setup_dataframe()\n",
    "\n",
    "    plt.show = lambda: None\n",
    "    #plot_box_by_category(df, 'region', 'loyalty_score', \"test_report.md\")\n",
    "    print(\"test_plot_box_by_category passed\")\n",
    "\n",
    "def test_plot_correlation_heatmap():\n",
    "    \"\"\"Test plot_correlation_heatmap function\"\"\"\n",
    "    df = setup_dataframe()\n",
    "\n",
    "    plt.show = lambda: None\n",
    "    #plot_correlation_heatmap(df, ['purchase_amount', 'purchase_frequency', 'loyalty_score'], \"test_report.md\")\n",
    "    print(\"test_plot_correlation_heatmap passed\")\n",
    "\n",
    "def test_plot_scatter_with_trend():\n",
    "    \"\"\"Test plot_scatter_with_trend function\"\"\"\n",
    "    df = setup_dataframe()\n",
    "\n",
    "    plt.show = lambda: None\n",
    "    #plot_scatter_with_trend(df, 'annual_income', 'purchase_amount', \"test_report.md\")\n",
    "    print(\"test_plot_scatter_with_trend passed\")\n",
    "\n",
    "def test_plot_bar_by_category():\n",
    "    \"\"\"Test plot_bar_by_category function\"\"\"\n",
    "    df = setup_dataframe()\n",
    "\n",
    "    plt.show = lambda: None\n",
    "    #plot_bar_by_category(df, 'region', 'purchase_amount', \"test_report.md\")\n",
    "    print(\"test_plot_bar_by_category passed\")\n",
    "\n",
    "# Run the tests\n",
    "test_summary_statistics()\n",
    "test_plot_histograms()\n",
    "test_plot_scatter_with_hue()\n",
    "test_plot_box_by_category()\n",
    "test_plot_correlation_heatmap()\n",
    "test_plot_scatter_with_trend()\n",
    "test_plot_bar_by_category()\n"
   ]
  }
 ],
 "metadata": {
  "kernelspec": {
   "display_name": "base",
   "language": "python",
   "name": "python3"
  },
  "language_info": {
   "codemirror_mode": {
    "name": "ipython",
    "version": 3
   },
   "file_extension": ".py",
   "mimetype": "text/x-python",
   "name": "python",
   "nbconvert_exporter": "python",
   "pygments_lexer": "ipython3",
   "version": "3.12.3"
  }
 },
 "nbformat": 4,
 "nbformat_minor": 2
}
